{
  "nbformat": 4,
  "nbformat_minor": 0,
  "metadata": {
    "colab": {
      "provenance": []
    },
    "kernelspec": {
      "name": "python3",
      "display_name": "Python 3"
    },
    "language_info": {
      "name": "python"
    }
  },
  "cells": [
    {
      "cell_type": "markdown",
      "source": [
        "##**Importação:**"
      ],
      "metadata": {
        "id": "j2Qvs1UxGmZQ"
      }
    },
    {
      "cell_type": "code",
      "source": [
        "import pandas as pd"
      ],
      "metadata": {
        "id": "jZjGyNqW_PHI"
      },
      "execution_count": null,
      "outputs": []
    },
    {
      "cell_type": "code",
      "source": [
        "df = pd.read_csv('/content/xAPI-Edu-Data.csv', sep=',')"
      ],
      "metadata": {
        "id": "Ug7iTjRZ_TVA"
      },
      "execution_count": null,
      "outputs": []
    },
    {
      "cell_type": "markdown",
      "source": [
        "##**Padronização das variaveis:**"
      ],
      "metadata": {
        "id": "efA1YBeTGqqH"
      }
    },
    {
      "cell_type": "code",
      "source": [
        "#conferindo as colunas\n",
        "df.columns"
      ],
      "metadata": {
        "colab": {
          "base_uri": "https://localhost:8080/"
        },
        "id": "UkBHH4nFCLy6",
        "outputId": "1f95e0dd-9fc3-4fe2-94fc-12a6216d6d7e"
      },
      "execution_count": null,
      "outputs": [
        {
          "output_type": "execute_result",
          "data": {
            "text/plain": [
              "Index(['gender', 'NationalITy', 'PlaceofBirth', 'StageID', 'GradeID',\n",
              "       'SectionID', 'Topic', 'Semester', 'Relation', 'raisedhands',\n",
              "       'VisITedResources', 'AnnouncementsView', 'Discussion',\n",
              "       'ParentAnsweringSurvey', 'ParentschoolSatisfaction',\n",
              "       'StudentAbsenceDays', 'Class'],\n",
              "      dtype='object')"
            ]
          },
          "metadata": {},
          "execution_count": 54
        }
      ]
    },
    {
      "cell_type": "code",
      "source": [
        "#Coluna teste\n",
        "df.Relation"
      ],
      "metadata": {
        "colab": {
          "base_uri": "https://localhost:8080/"
        },
        "id": "gV8lndL5Lfj2",
        "outputId": "41918c3c-438a-4534-ee60-8d380e8a5604"
      },
      "execution_count": null,
      "outputs": [
        {
          "output_type": "execute_result",
          "data": {
            "text/plain": [
              "0      Father\n",
              "1      Father\n",
              "2      Father\n",
              "3      Father\n",
              "4      Father\n",
              "        ...  \n",
              "475    Father\n",
              "476    Father\n",
              "477    Father\n",
              "478    Father\n",
              "479    Father\n",
              "Name: Relation, Length: 480, dtype: object"
            ]
          },
          "metadata": {},
          "execution_count": 55
        }
      ]
    },
    {
      "cell_type": "code",
      "source": [
        "#tornando as variaveis categoricas como maiusulas e padronizando\n",
        "df.Topic = [x.upper() for x in df.Topic]\n",
        "df.NationalITy  = [x.upper() for x in df. NationalITy]\n",
        "df.PlaceofBirth = [x.upper() for x in df.PlaceofBirth]\n",
        "df.StageID = [x.upper() for x in df.StageID]\n",
        "df.GradeID = [x.upper() for x in df.GradeID ]\n",
        "df.Relation = [x.upper() for x in df.Relation]\n",
        "df.ParentAnsweringSurvey = [x.upper() for x in df.ParentAnsweringSurvey]\n",
        "df.ParentschoolSatisfaction = [x.upper() for x in df.ParentschoolSatisfaction]\n",
        "df.StudentAbsenceDays = [x.upper() for x in df.StudentAbsenceDays]\n",
        "df.Class = [x.upper() for x in df.Class]"
      ],
      "metadata": {
        "id": "yOGdhvtXBXwl"
      },
      "execution_count": null,
      "outputs": []
    },
    {
      "cell_type": "code",
      "source": [
        "#coluna relation depois de padronizada\n",
        "df.Relation"
      ],
      "metadata": {
        "colab": {
          "base_uri": "https://localhost:8080/"
        },
        "id": "qJaJhnzABaWU",
        "outputId": "d295c62d-ab90-4e81-aab7-299e6f16cc55"
      },
      "execution_count": null,
      "outputs": [
        {
          "output_type": "execute_result",
          "data": {
            "text/plain": [
              "0      FATHER\n",
              "1      FATHER\n",
              "2      FATHER\n",
              "3      FATHER\n",
              "4      FATHER\n",
              "        ...  \n",
              "475    FATHER\n",
              "476    FATHER\n",
              "477    FATHER\n",
              "478    FATHER\n",
              "479    FATHER\n",
              "Name: Relation, Length: 480, dtype: object"
            ]
          },
          "metadata": {},
          "execution_count": 57
        }
      ]
    },
    {
      "cell_type": "markdown",
      "source": [
        "##**Corrigindo os dados:**"
      ],
      "metadata": {
        "id": "CNQ_NyeTGylu"
      }
    },
    {
      "cell_type": "code",
      "source": [
        "df.Semester.value_counts()"
      ],
      "metadata": {
        "colab": {
          "base_uri": "https://localhost:8080/"
        },
        "id": "aOIs2MkBH_v1",
        "outputId": "7432b8c6-ccee-44c9-a37e-6854873b3a6a"
      },
      "execution_count": null,
      "outputs": [
        {
          "output_type": "execute_result",
          "data": {
            "text/plain": [
              "F    245\n",
              "S    235\n",
              "Name: Semester, dtype: int64"
            ]
          },
          "metadata": {},
          "execution_count": 58
        }
      ]
    },
    {
      "cell_type": "code",
      "source": [
        "#fazendo a substituição das letras pela palavra\n",
        "df.Semester.replace('F', 'FIRST', inplace= True)\n",
        "df.Semester.replace('S', 'SECOND', inplace= True)"
      ],
      "metadata": {
        "id": "OfZWy36WIZhZ"
      },
      "execution_count": null,
      "outputs": []
    },
    {
      "cell_type": "code",
      "source": [
        "df.Semester.value_counts()"
      ],
      "metadata": {
        "colab": {
          "base_uri": "https://localhost:8080/"
        },
        "id": "O4W4YZBDI8I2",
        "outputId": "04372a21-fd11-4ba2-972a-1542fa5b10af"
      },
      "execution_count": null,
      "outputs": [
        {
          "output_type": "execute_result",
          "data": {
            "text/plain": [
              "FIRST     245\n",
              "SECOND    235\n",
              "Name: Semester, dtype: int64"
            ]
          },
          "metadata": {},
          "execution_count": 60
        }
      ]
    },
    {
      "cell_type": "code",
      "execution_count": null,
      "metadata": {
        "colab": {
          "base_uri": "https://localhost:8080/"
        },
        "id": "wZKCJZ1io18f",
        "outputId": "2a79c0cd-2a75-4ca2-c952-7cdc380cfd90"
      },
      "outputs": [
        {
          "output_type": "execute_result",
          "data": {
            "text/plain": [
              "M    305\n",
              "F    175\n",
              "Name: gender, dtype: int64"
            ]
          },
          "metadata": {},
          "execution_count": 61
        }
      ],
      "source": [
        "#contando as categorias\n",
        "df.gender.value_counts()"
      ]
    },
    {
      "cell_type": "code",
      "source": [
        "#substituindo as letras pelo nome completo\n",
        "df.gender.replace('M', 'MAN', inplace=True)\n",
        "df.gender.replace('F', 'WOMAN', inplace = True)"
      ],
      "metadata": {
        "id": "RIwAxL6zo5_1"
      },
      "execution_count": null,
      "outputs": []
    },
    {
      "cell_type": "code",
      "source": [
        "#conferindo os dados\n",
        "df.gender.value_counts()"
      ],
      "metadata": {
        "colab": {
          "base_uri": "https://localhost:8080/"
        },
        "id": "t9RLAnkR_s9k",
        "outputId": "037ac1c1-b0ac-4651-a4c4-cf02f19936eb"
      },
      "execution_count": null,
      "outputs": [
        {
          "output_type": "execute_result",
          "data": {
            "text/plain": [
              "MAN      305\n",
              "WOMAN    175\n",
              "Name: gender, dtype: int64"
            ]
          },
          "metadata": {},
          "execution_count": 63
        }
      ]
    },
    {
      "cell_type": "code",
      "source": [
        "df.NationalITy.replace('KW', 'KUWAIT', inplace= True)\n",
        "df.NationalITy.replace('USA', 'UNITED STATES', inplace= True)"
      ],
      "metadata": {
        "id": "jGhC2xVKAGId"
      },
      "execution_count": null,
      "outputs": []
    },
    {
      "cell_type": "code",
      "source": [
        "df.NationalITy.value_counts()"
      ],
      "metadata": {
        "colab": {
          "base_uri": "https://localhost:8080/"
        },
        "id": "zZYCPiGzBG1F",
        "outputId": "bddc18ff-45ee-4345-b820-bbfee721a9ec"
      },
      "execution_count": null,
      "outputs": [
        {
          "output_type": "execute_result",
          "data": {
            "text/plain": [
              "KUWAIT           179\n",
              "JORDAN           172\n",
              "PALESTINE         28\n",
              "IRAQ              22\n",
              "LEBANON           17\n",
              "TUNIS             12\n",
              "SAUDIARABIA       11\n",
              "EGYPT              9\n",
              "SYRIA              7\n",
              "UNITED STATES      6\n",
              "IRAN               6\n",
              "LYBIA              6\n",
              "MOROCCO            4\n",
              "VENZUELA           1\n",
              "Name: NationalITy, dtype: int64"
            ]
          },
          "metadata": {},
          "execution_count": 65
        }
      ]
    },
    {
      "cell_type": "code",
      "source": [
        "df.PlaceofBirth.value_counts()"
      ],
      "metadata": {
        "colab": {
          "base_uri": "https://localhost:8080/"
        },
        "id": "tduCzpvwlZ4K",
        "outputId": "07e6ded4-1606-46eb-8718-fbc8bd542579"
      },
      "execution_count": null,
      "outputs": [
        {
          "output_type": "execute_result",
          "data": {
            "text/plain": [
              "KUWAIT         180\n",
              "JORDAN         176\n",
              "IRAQ            22\n",
              "LEBANON         19\n",
              "SAUDIARABIA     16\n",
              "USA             16\n",
              "PALESTINE       10\n",
              "EGYPT            9\n",
              "TUNIS            9\n",
              "IRAN             6\n",
              "SYRIA            6\n",
              "LYBIA            6\n",
              "MOROCCO          4\n",
              "VENZUELA         1\n",
              "Name: PlaceofBirth, dtype: int64"
            ]
          },
          "metadata": {},
          "execution_count": 66
        }
      ]
    },
    {
      "cell_type": "code",
      "source": [
        "df.PlaceofBirth.replace('USA', 'UNITED STATES', inplace= True)"
      ],
      "metadata": {
        "id": "OzFndt-mlpWj"
      },
      "execution_count": null,
      "outputs": []
    },
    {
      "cell_type": "code",
      "source": [
        "df.PlaceofBirth.value_counts()"
      ],
      "metadata": {
        "colab": {
          "base_uri": "https://localhost:8080/"
        },
        "id": "F0-ecuOIlpiY",
        "outputId": "dc0b8195-c206-4ce3-d1ed-bcafd805c7fb"
      },
      "execution_count": null,
      "outputs": [
        {
          "output_type": "execute_result",
          "data": {
            "text/plain": [
              "KUWAIT           180\n",
              "JORDAN           176\n",
              "IRAQ              22\n",
              "LEBANON           19\n",
              "SAUDIARABIA       16\n",
              "UNITED STATES     16\n",
              "PALESTINE         10\n",
              "EGYPT              9\n",
              "TUNIS              9\n",
              "IRAN               6\n",
              "SYRIA              6\n",
              "LYBIA              6\n",
              "MOROCCO            4\n",
              "VENZUELA           1\n",
              "Name: PlaceofBirth, dtype: int64"
            ]
          },
          "metadata": {},
          "execution_count": 76
        }
      ]
    },
    {
      "cell_type": "code",
      "source": [
        "df.Class.value_counts()"
      ],
      "metadata": {
        "colab": {
          "base_uri": "https://localhost:8080/"
        },
        "id": "Am-Nt0TSlpp0",
        "outputId": "e12ee2ee-41c4-4661-8bc7-5c33d18d280c"
      },
      "execution_count": null,
      "outputs": [
        {
          "output_type": "execute_result",
          "data": {
            "text/plain": [
              "M    211\n",
              "H    142\n",
              "L    127\n",
              "Name: Class, dtype: int64"
            ]
          },
          "metadata": {},
          "execution_count": 69
        }
      ]
    },
    {
      "cell_type": "code",
      "source": [
        "df.Class.replace('M', 'MIDDLE-LEVEL', inplace=True)\n",
        "df.Class.replace('H', 'HIGH-LEVEL', inplace=True)\n",
        "df.Class.replace('L', 'LOW-LEVEL', inplace=True)"
      ],
      "metadata": {
        "id": "P3GDDn2alpqr"
      },
      "execution_count": null,
      "outputs": []
    },
    {
      "cell_type": "code",
      "source": [
        "df.Class.value_counts()"
      ],
      "metadata": {
        "colab": {
          "base_uri": "https://localhost:8080/"
        },
        "id": "ycm9zz3JnyTL",
        "outputId": "2d4f7b91-29a4-4f1c-b6b5-86b072e8a0b8"
      },
      "execution_count": null,
      "outputs": [
        {
          "output_type": "execute_result",
          "data": {
            "text/plain": [
              "MIDDLE-LEVEL    211\n",
              "HIGH-LEVEL      142\n",
              "LOW-LEVEL       127\n",
              "Name: Class, dtype: int64"
            ]
          },
          "metadata": {},
          "execution_count": 71
        }
      ]
    },
    {
      "cell_type": "markdown",
      "source": [
        "Todas as colunas numéricas estavam padronizadas. Todas as colunas categóricas foram ajustadas para a letra maiuscula.\n",
        "As colunas cujo haviam abrevições foram modificadas."
      ],
      "metadata": {
        "id": "WlMwW7elnn81"
      }
    },
    {
      "cell_type": "code",
      "source": [
        "#salvando o dataset\n",
        "df.to_csv('dados_processed.csv', index=False, sep=';')"
      ],
      "metadata": {
        "id": "hMMh_u9ria9w"
      },
      "execution_count": null,
      "outputs": []
    }
  ]
}